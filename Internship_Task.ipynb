{
  "nbformat": 4,
  "nbformat_minor": 0,
  "metadata": {
    "colab": {
      "provenance": []
    },
    "kernelspec": {
      "name": "python3",
      "display_name": "Python 3"
    },
    "language_info": {
      "name": "python"
    }
  },
  "cells": [
    {
      "cell_type": "code",
      "execution_count": 38,
      "metadata": {
        "id": "gnlv1ccZJ9LV"
      },
      "outputs": [],
      "source": [
        "#Import Libraries\n",
        "import pandas as pd\n",
        "import numpy as np\n",
        "import plotly.express as px\n",
        "import plotly.io as pio\n",
        "from sklearn.model_selection import train_test_split\n",
        "from sklearn.ensemble import RandomForestRegressor\n",
        "from sklearn.metrics import mean_squared_error, r2_score\n",
        "from nltk.sentiment.vader import SentimentIntensityAnalyzer\n",
        "import nltk\n",
        "import webbrowser\n",
        "import os\n",
        "import plotly.graph_objects as go\n",
        "from datetime import datetime\n",
        "import pytz"
      ]
    },
    {
      "cell_type": "code",
      "source": [
        "#Load Datasets\n",
        "apps_df = pd.read_csv('/content/Play Store Data.csv')\n",
        "reviews_df = pd.read_csv('/content/User Reviews.csv')\n",
        "global_df = pd.read_csv('/content/Global EV Data 2024.csv')"
      ],
      "metadata": {
        "id": "sP7DiT_jZwnA"
      },
      "execution_count": 23,
      "outputs": []
    },
    {
      "cell_type": "code",
      "source": [
        "# Current IST time\n",
        "ist = pytz.timezone('Asia/Kolkata')\n",
        "current_time = datetime.now(ist)\n",
        "current_hour = current_time.hour\n",
        "print(\"Current IST Time:\", current_time.strftime(\"%I:%M %p\"))"
      ],
      "metadata": {
        "colab": {
          "base_uri": "https://localhost:8080/"
        },
        "id": "O3wBQzML28ad",
        "outputId": "432ad30f-ef38-41aa-8406-8e41504c211b"
      },
      "execution_count": 39,
      "outputs": [
        {
          "output_type": "stream",
          "name": "stdout",
          "text": [
            "Current IST Time: 02:32 PM\n"
          ]
        }
      ]
    },
    {
      "cell_type": "code",
      "source": [
        "def clean_installs(x):\n",
        "    try:\n",
        "        return float(str(x).replace('+','').replace(',','').replace('M','000000').replace('k','000').strip())\n",
        "    except:\n",
        "        return np.nan\n",
        "\n",
        "def clean_size(x):\n",
        "    try:\n",
        "        s = str(x).upper()\n",
        "        if 'M' in s:\n",
        "            return float(s.replace('M',''))\n",
        "        elif 'K' in s:\n",
        "            return float(s.replace('K',''))/1024\n",
        "        else:\n",
        "            return np.nan\n",
        "    except:\n",
        "        return np.nan\n",
        "\n",
        "apps_df['Installs_Clean'] = apps_df['Installs'].apply(clean_installs)\n",
        "apps_df['Size_MB'] = apps_df['Size'].apply(clean_size)\n",
        "apps_df['Last_Updated'] = pd.to_datetime(apps_df['Last Updated'], errors='coerce')\n",
        "apps_df['Last_Updated_Month'] = apps_df['Last_Updated'].dt.strftime('%B')\n"
      ],
      "metadata": {
        "id": "AXo4_LD-3DUw"
      },
      "execution_count": 40,
      "outputs": []
    },
    {
      "cell_type": "markdown",
      "source": [
        "Task 1 : Grouped Bar Chart (3-5 PM)"
      ],
      "metadata": {
        "id": "4tgi1JuE3VWM"
      }
    },
    {
      "cell_type": "code",
      "source": [
        "if 15 <= current_hour < 17:\n",
        "    df1 = apps_df[(apps_df['Rating']>=4.0) &\n",
        "                  (apps_df['Size_MB']>=10) &\n",
        "                  (apps_df['Last_Updated_Month']==\"January\")]\n",
        "    category_stats = df1.groupby('Category').agg({\n",
        "        'Rating':'mean',\n",
        "        'Reviews':'sum',\n",
        "        'Installs_Clean':'sum'\n",
        "    }).reset_index()\n",
        "    top10 = category_stats.nlargest(10,'Installs_Clean')\n",
        "\n",
        "    fig1 = go.Figure()\n",
        "    fig1.add_trace(go.Bar(name='Avg Rating', x=top10['Category'], y=top10['Rating'],\n",
        "                          marker_color='#636EFA', text=top10['Rating'].round(2), textposition='auto'))\n",
        "    fig1.add_trace(go.Bar(name='Total Reviews', x=top10['Category'], y=top10['Reviews'],\n",
        "                          marker_color='#EF553B', text=top10['Reviews'].astype(int), textposition='auto', yaxis='y2'))\n",
        "    fig1.update_layout(\n",
        "        title='Top 10 Categories: Avg Rating & Review Count',\n",
        "        xaxis=dict(title='Category', tickangle=-45),\n",
        "        yaxis=dict(title='Average Rating', range=[0,5], titlefont=dict(color='#636EFA'), tickfont=dict(color='#636EFA')),\n",
        "        yaxis2=dict(title='Total Reviews', overlaying='y', side='right', titlefont=dict(color='#EF553B'), tickfont=dict(color='#EF553B')),\n",
        "        barmode='group', template=\"plotly_dark\"\n",
        "    )\n",
        "    fig1.show()\n",
        "else:\n",
        "    print(\"✗ Task 1 hidden - Available 3–5 PM IST\")"
      ],
      "metadata": {
        "colab": {
          "base_uri": "https://localhost:8080/"
        },
        "id": "JDlPtLsD3Tay",
        "outputId": "c05c5c63-dd5b-4d1b-c69d-ddc58278ad13"
      },
      "execution_count": 42,
      "outputs": [
        {
          "output_type": "stream",
          "name": "stdout",
          "text": [
            "✗ Task 1 hidden - Available 3–5 PM IST\n"
          ]
        }
      ]
    },
    {
      "cell_type": "markdown",
      "source": [
        "Task 2 : Choropleth Map (6-8 PM)"
      ],
      "metadata": {
        "id": "nFTmUsGX3s6S"
      }
    },
    {
      "cell_type": "code",
      "source": [
        "if 18 <= current_hour < 20:\n",
        "    # Step 1: Filter apps_df categories (exclude A, C, G, S)\n",
        "    df2 = apps_df[~apps_df['Category'].str.startswith(('A','C','G','S'))]\n",
        "    top5_cats = df2.groupby('Category')['Installs_Clean'].sum().nlargest(5).index\n",
        "    df2 = df2[df2['Category'].isin(top5_cats)]\n",
        "\n",
        "    # Step 2: Merge with global_df to bring in Country information\n",
        "    # Assuming both have \"App\" column for joining\n",
        "    df2_geo = df2.merge(global_df, on=\"App\", how=\"inner\")\n",
        "\n",
        "    # Step 3: Group by Category & Country\n",
        "    df2_country = df2_geo.groupby(['Category','Country'])['Installs_Clean'].sum().reset_index()\n",
        "\n",
        "    # Step 4: Choropleth visualization\n",
        "    fig2 = go.Figure()\n",
        "    for cat in df2_country['Category'].unique():\n",
        "        df_cat = df2_country[df2_country['Category']==cat]\n",
        "        fig2.add_trace(go.Choropleth(\n",
        "            locations=df_cat['Country'],\n",
        "            locationmode=\"country names\",\n",
        "            z=df_cat['Installs_Clean'],\n",
        "            text=cat,\n",
        "            colorscale=\"Viridis\",\n",
        "            colorbar_title=\"Installs\",\n",
        "            marker_line_width=np.where(df_cat['Installs_Clean']>1_000_000,2,0.5)\n",
        "        ))\n",
        "\n",
        "    fig2.update_layout(title=\"Installs by Category & Country (Task 2)\", template=\"plotly_dark\")\n",
        "    fig2.show()\n",
        "\n",
        "else:\n",
        "    print(\"✗ Task 2 hidden - Available 6–8 PM IST\")\n"
      ],
      "metadata": {
        "colab": {
          "base_uri": "https://localhost:8080/"
        },
        "id": "_tWBNBde3JVX",
        "outputId": "2112f063-b357-430e-9662-c38b4e137220"
      },
      "execution_count": 50,
      "outputs": [
        {
          "output_type": "stream",
          "name": "stdout",
          "text": [
            "✗ Task 2 hidden - Available 6–8 PM IST\n"
          ]
        }
      ]
    },
    {
      "cell_type": "markdown",
      "source": [
        "Task 3 : Dual Axis Chart (1-2 PM)"
      ],
      "metadata": {
        "id": "N1pFdpQq35BW"
      }
    },
    {
      "cell_type": "code",
      "source": [
        "from plotly.subplots import make_subplots\n",
        "import plotly.graph_objects as go\n",
        "\n",
        "if 13 <= current_hour < 14:\n",
        "    df3 = apps_df.copy()\n",
        "    # Extract Android version once as float for filtering\n",
        "    df3['Android_Version'] = df3['Android Ver'].str.extract(r'(\\d+\\.\\d+)')[0].astype(float)\n",
        "\n",
        "    # Apply all filters\n",
        "    df3 = df3[(df3['Installs_Clean']>=10000) &\n",
        "              (df3['Revenue']>=10000) &\n",
        "              (df3['Android_Version']>4.0) &\n",
        "              (df3['Size_MB']>15) &\n",
        "              (df3['Content Rating']==\"Everyone\") &\n",
        "              (df3['App'].str.len()<=30)]\n",
        "\n",
        "    top3_cats = df3.groupby('Category')['Installs_Clean'].sum().nlargest(3).index\n",
        "    df3 = df3[df3['Category'].isin(top3_cats)]\n",
        "\n",
        "    agg = df3.groupby(['Category','Type'], as_index=False).agg({\n",
        "        'Installs_Clean':'mean',\n",
        "        'Revenue':'mean'\n",
        "    })\n",
        "\n",
        "    # Create subplots with secondary y-axis\n",
        "    fig3 = make_subplots(specs=[[{\"secondary_y\": True}]])\n",
        "\n",
        "    # Add bar trace for average installs\n",
        "    fig3.add_trace(\n",
        "        go.Bar(x=agg['Category'] + \" - \" + agg['Type'], y=agg['Installs_Clean'], name=\"Avg Installs\"),\n",
        "        secondary_y=False)\n",
        "\n",
        "    # Add scatter trace for revenue on secondary y-axis\n",
        "    fig3.add_trace(\n",
        "        go.Scatter(x=agg['Category'] + \" - \" + agg['Type'], y=agg['Revenue'],\n",
        "                   name=\"Avg Revenue\", mode=\"lines+markers\"),\n",
        "        secondary_y=True)\n",
        "\n",
        "    # Update layout and axis titles\n",
        "    fig3.update_layout(\n",
        "        title=\"Dual Axis: Installs vs Revenue (Task 3)\",\n",
        "        xaxis_title=\"Category-Type\",\n",
        "        template=\"plotly_dark\"\n",
        "    )\n",
        "    fig3.update_yaxes(title_text=\"Avg Installs\", secondary_y=False)\n",
        "    fig3.update_yaxes(title_text=\"Avg Revenue\", secondary_y=True)\n",
        "\n",
        "    fig3.show()\n",
        "else:\n",
        "    print(\"✗ Task 3 hidden - Available 1–2 PM IST\")\n"
      ],
      "metadata": {
        "colab": {
          "base_uri": "https://localhost:8080/"
        },
        "id": "SJWH1ra532oi",
        "outputId": "4a9d1670-4ddb-4ea2-ce74-2b13c8cf6f09"
      },
      "execution_count": 51,
      "outputs": [
        {
          "output_type": "stream",
          "name": "stdout",
          "text": [
            "✗ Task 3 hidden - Available 1–2 PM IST\n"
          ]
        }
      ]
    },
    {
      "cell_type": "markdown",
      "source": [
        "Task 4 : Time Series Line Chart (6-9 PM)"
      ],
      "metadata": {
        "id": "5vRVGfcj4Gv9"
      }
    },
    {
      "cell_type": "code",
      "source": [
        "if 18 <= current_hour < 21:\n",
        "    df4 = apps_df.copy()\n",
        "    # Apply all filters\n",
        "    df4 = df4[(df4['Reviews'] > 500) &\n",
        "              (~df4['App'].str[0].str.lower().isin(['x','y','z'])) &\n",
        "              (~df4['App'].str.contains('S', case=False)) &\n",
        "              (df4['Category'].str.startswith(('E','C','B')))]\n",
        "\n",
        "    # Translate categories\n",
        "    translations = {'Beauty': 'ब्यूटी', 'Business': 'வணிகம்', 'Dating': 'Dating in German'}\n",
        "    df4['Category_Translated'] = df4['Category'].replace(translations)\n",
        "\n",
        "    # Convert dates and aggregate installs monthly\n",
        "    df4['Month'] = pd.to_datetime(df4['Last_Updated']).dt.to_period('M')\n",
        "    df_agg = df4.groupby(['Month', 'Category_Translated'])['Installs_Clean'].sum().reset_index()\n",
        "\n",
        "    # Calculate Monthly MoM Growth %\n",
        "    df_agg['MoM_Growth'] = df_agg.groupby('Category_Translated')['Installs_Clean'].pct_change() * 100\n",
        "\n",
        "    fig4 = go.Figure()\n",
        "    for cat in df_agg['Category_Translated'].unique():\n",
        "        df_cat = df_agg[df_agg['Category_Translated'] == cat]\n",
        "        fig4.add_trace(go.Scatter(\n",
        "            x=df_cat['Month'].dt.to_timestamp(),\n",
        "            y=df_cat['Installs_Clean'],\n",
        "            mode='lines+markers',\n",
        "            name=cat\n",
        "        ))\n",
        "        # Shade area under curve for growth > 20%\n",
        "        high_growth = df_cat[df_cat['MoM_Growth'] > 20]\n",
        "        fig4.add_trace(go.Scatter(\n",
        "            x=high_growth['Month'].dt.to_timestamp(),\n",
        "            y=high_growth['Installs_Clean'],\n",
        "            mode='none',\n",
        "            fill='tozeroy',\n",
        "            fillcolor='rgba(255,0,0,0.2)',\n",
        "            showlegend=False,\n",
        "            hoverinfo='skip'\n",
        "        ))\n",
        "\n",
        "    fig4.update_layout(\n",
        "        title=\"Total Installs Over Time by Category (Task 4)\",\n",
        "        xaxis_title=\"Month\",\n",
        "        yaxis_title=\"Total Installs\",\n",
        "        template=\"plotly_dark\"\n",
        "    )\n",
        "    fig4.show()\n",
        "else:\n",
        "    print(\"✗ Task 4 hidden - Available 6–9 PM IST\")\n"
      ],
      "metadata": {
        "colab": {
          "base_uri": "https://localhost:8080/"
        },
        "id": "SnjKck6X4C3v",
        "outputId": "83cba2ca-ab97-4dc9-c2a1-8134bb4f1097"
      },
      "execution_count": 52,
      "outputs": [
        {
          "output_type": "stream",
          "name": "stdout",
          "text": [
            "✗ Task 4 hidden - Available 6–9 PM IST\n"
          ]
        }
      ]
    },
    {
      "cell_type": "markdown",
      "source": [
        "Task 5 : Bubble Chart (5-7 PM)"
      ],
      "metadata": {
        "id": "qaGePDGW4SDP"
      }
    },
    {
      "cell_type": "code",
      "source": [
        "if 17 <= current_hour < 19:\n",
        "    df5 = apps_df.copy()\n",
        "    df5 = df5[(df5['Rating'] > 3.5) & (df5['Reviews'] > 500)]\n",
        "    categories_allowed = ['Game', 'Beauty', 'Business', 'Comics', 'Communication', 'Dating', 'Entertainment', 'Social', 'Event']\n",
        "    df5 = df5[df5['Category'].isin(categories_allowed)]\n",
        "    df5 = df5[~df5['App'].str.contains('S', case=False)]\n",
        "\n",
        "    # Merge to get sentiment subjectivity\n",
        "    df5 = df5.merge(reviews_df[['App', 'Sentiment_Subjectivity']], on='App', how='left')\n",
        "    df5 = df5[df5['Sentiment_Subjectivity'] > 0.5]\n",
        "    df5 = df5[df5['Installs_Clean'] > 50000]\n",
        "\n",
        "    translations = {'Beauty': 'ब्यूटी', 'Business': 'வணிகம்', 'Dating': 'Dating in German'}\n",
        "    df5['Category_Translated'] = df5['Category'].replace(translations)\n",
        "\n",
        "    fig5 = go.Figure()\n",
        "    for cat in df5['Category_Translated'].unique():\n",
        "        df_cat = df5[df5['Category_Translated'] == cat]\n",
        "        marker_color = 'pink' if cat == 'Game' else 'blue'\n",
        "        fig5.add_trace(go.Scatter(\n",
        "            x=df_cat['Size_MB'], y=df_cat['Rating'],\n",
        "            mode='markers', name=cat,\n",
        "            marker=dict(\n",
        "                size=df_cat['Installs_Clean'] / 100000,\n",
        "                color=marker_color,\n",
        "                sizemode='area',\n",
        "                sizeref=2. * max(df5['Installs_Clean'] / 100000) / (100 ** 2),\n",
        "                sizemin=4\n",
        "            ),\n",
        "            text=df_cat['App']\n",
        "        ))\n",
        "\n",
        "    fig5.update_layout(title='App Size vs Rating Bubble Chart (Task 5)', template='plotly_dark',\n",
        "                       xaxis_title='App Size (MB)', yaxis_title='Average Rating')\n",
        "    fig5.show()\n",
        "else:\n",
        "    print(\"✗ Task 5 hidden - Available 5–7 PM IST\")\n"
      ],
      "metadata": {
        "colab": {
          "base_uri": "https://localhost:8080/"
        },
        "id": "mpPBhhWc4PEq",
        "outputId": "8299176a-912b-4524-c200-b21b1e355a16"
      },
      "execution_count": 53,
      "outputs": [
        {
          "output_type": "stream",
          "name": "stdout",
          "text": [
            "✗ Task 5 hidden - Available 5–7 PM IST\n"
          ]
        }
      ]
    },
    {
      "cell_type": "markdown",
      "source": [
        "Task 6 : Stacked Area Chart (4-6 PM)"
      ],
      "metadata": {
        "id": "ab0OvObk4dvf"
      }
    },
    {
      "cell_type": "code",
      "source": [
        "if 16 <= current_hour < 18:\n",
        "    df6 = apps_df.copy()\n",
        "    df6 = df6[(df6['Rating'] >= 4.2) &\n",
        "              (~df6['App'].str.contains(r'\\d', regex=True)) &\n",
        "              (df6['Category'].str.startswith(('T','P'))) &\n",
        "              (df6['Reviews'] > 1000) &\n",
        "              (df6['Size_MB'].between(20,80))]\n",
        "\n",
        "    translations = {'Travel & Local':'Voyage', 'Productivity':'Productividad', 'Photography':'写真'}\n",
        "    df6['Category_Translated'] = df6['Category'].replace(translations)\n",
        "\n",
        "    df6['Month'] = pd.to_datetime(df6['Last_Updated'], errors='coerce').dt.to_period('M')\n",
        "    df_agg6 = df6.groupby(['Month','Category_Translated'])['Installs_Clean'].sum().reset_index()\n",
        "\n",
        "    # Calculate cumulative installs per category\n",
        "    df_agg6['Cumulative_Installs'] = df_agg6.groupby('Category_Translated')['Installs_Clean'].cumsum()\n",
        "\n",
        "    # Calculate MoM growth %\n",
        "    df_agg6['MoM_Growth'] = df_agg6.groupby('Category_Translated')['Installs_Clean'].pct_change()*100\n",
        "\n",
        "    fig6 = go.Figure()\n",
        "    for cat in df_agg6['Category_Translated'].unique():\n",
        "        df_cat = df_agg6[df_agg6['Category_Translated'] == cat]\n",
        "        fig6.add_trace(go.Scatter(\n",
        "            x=df_cat['Month'].dt.to_timestamp(),\n",
        "            y=df_cat['Cumulative_Installs'],\n",
        "            mode='lines',\n",
        "            stackgroup='one',\n",
        "            name=cat\n",
        "        ))\n",
        "        # Highlight periods with >25% MoM growth\n",
        "        high_growth = df_cat[df_cat['MoM_Growth'] > 25]\n",
        "        fig6.add_trace(go.Scatter(\n",
        "            x=high_growth['Month'].dt.to_timestamp(),\n",
        "            y=high_growth['Cumulative_Installs'],\n",
        "            mode='none',\n",
        "            fill='tonexty',\n",
        "            fillcolor='rgba(255, 0, 0, 0.3)',\n",
        "            showlegend=False,\n",
        "            hoverinfo='skip'\n",
        "        ))\n",
        "\n",
        "    fig6.update_layout(\n",
        "        title=\"Cumulative Installs by Category (Task 6)\",\n",
        "        template=\"plotly_dark\",\n",
        "        xaxis_title=\"Month\",\n",
        "        yaxis_title=\"Cumulative Installs\"\n",
        "    )\n",
        "    fig6.show()\n",
        "else:\n",
        "    print(\"✗ Task 6 hidden - Available 4–6 PM IST\")\n"
      ],
      "metadata": {
        "colab": {
          "base_uri": "https://localhost:8080/"
        },
        "id": "UoBsH2HF4bXD",
        "outputId": "f3bcbc92-6c74-4e8a-975f-3868a67f9248"
      },
      "execution_count": 54,
      "outputs": [
        {
          "output_type": "stream",
          "name": "stdout",
          "text": [
            "✗ Task 6 hidden - Available 4–6 PM IST\n"
          ]
        }
      ]
    },
    {
      "cell_type": "code",
      "source": [],
      "metadata": {
        "id": "y68Ej9vd4zml"
      },
      "execution_count": null,
      "outputs": []
    }
  ]
}